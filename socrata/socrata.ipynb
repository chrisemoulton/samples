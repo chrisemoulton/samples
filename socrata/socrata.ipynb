{
 "metadata": {
  "name": "",
  "signature": "sha256:895fc420ef0eb9f685dd6dabdbd8b972a146117ab106b87146ccbc669dd08e79"
 },
 "nbformat": 3,
 "nbformat_minor": 0,
 "worksheets": [
  {
   "cells": [
    {
     "cell_type": "code",
     "collapsed": false,
     "input": [
      "import Algorithmia\n",
      "import matplotlib.pyplot as plt\n",
      "\n",
      "#put your own Algorithmia API key here\n",
      "Algorithmia.apiKey = 'XXXXXXXXXXXXXXXXXXXXXXXXXXXXX'\n",
      "\n",
      "months ={'JANUARY':1,'FEBRUARY':2,'MARCH':3,'APRIL':4,'MAY':5,'JUNE':6,'JULY':7,'AUGUST':8,'SEPTEMBER':9,'OCTOBER':10,'NOVEMBER':11,'DECEMBER':12}\n",
      "\n",
      "query = ['dashboard.edmonton.ca','heq4-cm4h','select month,year,total_applications_received']\n",
      "data = Algorithmia.algo(\"/marksskram/SocrataOpenDataQuery\").pipe(query)\n",
      "results = data['results']\n",
      "\n",
      "counts = []\n",
      "dates = []\n",
      "for item in results:\n",
      "    counts.append(item['total_applications_received'])\n",
      "    dt = datetime.date(int(item['year']),months[item['month']],1) \n",
      "    dates.append(dt)\n",
      "\n",
      "#this is just a little cleaner than the normal plot_date(...)/show method\n",
      "def plotClean(dates,counts):\n",
      "    years = YearLocator() \n",
      "    yearsFmt = DateFormatter('%Y')\n",
      "    months = MonthLocator()\n",
      "    fig, ax = plt.subplots()\n",
      "    ax.plot_date(x=dates,y=counts)\n",
      "\n",
      "    ax.xaxis.set_major_locator(years)\n",
      "    ax.xaxis.set_major_formatter(yearsFmt)\n",
      "    ax.xaxis.set_minor_locator(months)\n",
      "    ax.autoscale_view()\n",
      "    plt.show()\n",
      " \n",
      "plotClean(dates,counts)"
     ],
     "language": "python",
     "metadata": {},
     "outputs": [
      {
       "metadata": {},
       "output_type": "display_data",
       "png": "[encoded data removed]",
       "text": [
        "<matplotlib.figure.Figure at 0x11255dd50>"
       ]
      }
     ],
     "prompt_number": 31
    },
    {
     "cell_type": "code",
     "collapsed": false,
     "input": [],
     "language": "python",
     "metadata": {},
     "outputs": []
    }
   ],
   "metadata": {}
  }
 ]
}